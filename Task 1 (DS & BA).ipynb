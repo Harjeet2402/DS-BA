{
 "cells": [
  {
   "cell_type": "markdown",
   "id": "36637b78",
   "metadata": {},
   "source": [
    "# The Sparks Foundation : DATA SCIENCE AND BUSINESS ANALYTICS"
   ]
  },
  {
   "cell_type": "markdown",
   "id": "922f6e38",
   "metadata": {},
   "source": [
    "## Task 1: Prediction Using Supervised ML "
   ]
  },
  {
   "cell_type": "markdown",
   "id": "4c33ed0d",
   "metadata": {},
   "source": [
    "### Predict the percentage of student based on no. of hours studied"
   ]
  },
  {
   "cell_type": "markdown",
   "id": "539313d5",
   "metadata": {},
   "source": [
    "##### Dataset used : https://raw.githubusercontent.com/AdiPersonalWorks/Random/master/student_scores%20-%20student_scores.csv"
   ]
  },
  {
   "cell_type": "code",
   "execution_count": 1,
   "id": "7dcd16fb",
   "metadata": {},
   "outputs": [],
   "source": [
    "import pandas as pd   # for constructing dataframe\n",
    "import seaborn as sns # for plotting\n",
    "import requests # for webscrapping\n",
    "import matplotlib.pyplot as plt # for plotting graphs"
   ]
  },
  {
   "cell_type": "markdown",
   "id": "fd96be45",
   "metadata": {},
   "source": [
    "__Reading the data from url csv file to data frame__"
   ]
  },
  {
   "cell_type": "code",
   "execution_count": 2,
   "id": "f31f1bea",
   "metadata": {},
   "outputs": [],
   "source": [
    "url='https://raw.githubusercontent.com/AdiPersonalWorks/Random/master/student_scores%20-%20student_scores.csv'\n",
    "df=pd.read_csv(url)"
   ]
  },
  {
   "cell_type": "code",
   "execution_count": 3,
   "id": "a2d4babe",
   "metadata": {},
   "outputs": [
    {
     "data": {
      "text/html": [
       "<div>\n",
       "<style scoped>\n",
       "    .dataframe tbody tr th:only-of-type {\n",
       "        vertical-align: middle;\n",
       "    }\n",
       "\n",
       "    .dataframe tbody tr th {\n",
       "        vertical-align: top;\n",
       "    }\n",
       "\n",
       "    .dataframe thead th {\n",
       "        text-align: right;\n",
       "    }\n",
       "</style>\n",
       "<table border=\"1\" class=\"dataframe\">\n",
       "  <thead>\n",
       "    <tr style=\"text-align: right;\">\n",
       "      <th></th>\n",
       "      <th>Hours</th>\n",
       "      <th>Scores</th>\n",
       "    </tr>\n",
       "  </thead>\n",
       "  <tbody>\n",
       "    <tr>\n",
       "      <th>0</th>\n",
       "      <td>2.5</td>\n",
       "      <td>21</td>\n",
       "    </tr>\n",
       "    <tr>\n",
       "      <th>1</th>\n",
       "      <td>5.1</td>\n",
       "      <td>47</td>\n",
       "    </tr>\n",
       "    <tr>\n",
       "      <th>2</th>\n",
       "      <td>3.2</td>\n",
       "      <td>27</td>\n",
       "    </tr>\n",
       "    <tr>\n",
       "      <th>3</th>\n",
       "      <td>8.5</td>\n",
       "      <td>75</td>\n",
       "    </tr>\n",
       "    <tr>\n",
       "      <th>4</th>\n",
       "      <td>3.5</td>\n",
       "      <td>30</td>\n",
       "    </tr>\n",
       "  </tbody>\n",
       "</table>\n",
       "</div>"
      ],
      "text/plain": [
       "   Hours  Scores\n",
       "0    2.5      21\n",
       "1    5.1      47\n",
       "2    3.2      27\n",
       "3    8.5      75\n",
       "4    3.5      30"
      ]
     },
     "execution_count": 3,
     "metadata": {},
     "output_type": "execute_result"
    }
   ],
   "source": [
    "df.head() # displaying top 5 rows"
   ]
  },
  {
   "cell_type": "markdown",
   "id": "6a4cd0e9",
   "metadata": {},
   "source": [
    "__To check if data contains any null values__"
   ]
  },
  {
   "cell_type": "code",
   "execution_count": 4,
   "id": "c965c00e",
   "metadata": {},
   "outputs": [
    {
     "data": {
      "text/plain": [
       "Hours     0\n",
       "Scores    0\n",
       "dtype: int64"
      ]
     },
     "execution_count": 4,
     "metadata": {},
     "output_type": "execute_result"
    }
   ],
   "source": [
    "df.isnull().sum()"
   ]
  },
  {
   "cell_type": "markdown",
   "id": "33a2b083",
   "metadata": {},
   "source": [
    "Our data has no null value"
   ]
  },
  {
   "cell_type": "markdown",
   "id": "811febfc",
   "metadata": {},
   "source": [
    "__Getting the correlation among the features__ "
   ]
  },
  {
   "cell_type": "code",
   "execution_count": 5,
   "id": "44159150",
   "metadata": {},
   "outputs": [
    {
     "data": {
      "text/html": [
       "<div>\n",
       "<style scoped>\n",
       "    .dataframe tbody tr th:only-of-type {\n",
       "        vertical-align: middle;\n",
       "    }\n",
       "\n",
       "    .dataframe tbody tr th {\n",
       "        vertical-align: top;\n",
       "    }\n",
       "\n",
       "    .dataframe thead th {\n",
       "        text-align: right;\n",
       "    }\n",
       "</style>\n",
       "<table border=\"1\" class=\"dataframe\">\n",
       "  <thead>\n",
       "    <tr style=\"text-align: right;\">\n",
       "      <th></th>\n",
       "      <th>Hours</th>\n",
       "      <th>Scores</th>\n",
       "    </tr>\n",
       "  </thead>\n",
       "  <tbody>\n",
       "    <tr>\n",
       "      <th>Hours</th>\n",
       "      <td>1.000000</td>\n",
       "      <td>0.976191</td>\n",
       "    </tr>\n",
       "    <tr>\n",
       "      <th>Scores</th>\n",
       "      <td>0.976191</td>\n",
       "      <td>1.000000</td>\n",
       "    </tr>\n",
       "  </tbody>\n",
       "</table>\n",
       "</div>"
      ],
      "text/plain": [
       "           Hours    Scores\n",
       "Hours   1.000000  0.976191\n",
       "Scores  0.976191  1.000000"
      ]
     },
     "execution_count": 5,
     "metadata": {},
     "output_type": "execute_result"
    }
   ],
   "source": [
    "df.corr()"
   ]
  },
  {
   "cell_type": "code",
   "execution_count": 6,
   "id": "5a72dc98",
   "metadata": {
    "scrolled": true
   },
   "outputs": [
    {
     "data": {
      "text/plain": [
       "<AxesSubplot:>"
      ]
     },
     "execution_count": 6,
     "metadata": {},
     "output_type": "execute_result"
    },
    {
     "data": {
      "image/png": "[encoded data removed]",
      "text/plain": [
       "<Figure size 432x288 with 2 Axes>"
      ]
     },
     "metadata": {
      "needs_background": "light"
     },
     "output_type": "display_data"
    }
   ],
   "source": [
    "sns.heatmap(df.corr(),cmap='viridis')"
   ]
  },
  {
   "cell_type": "markdown",
   "id": "9ecaf64f",
   "metadata": {},
   "source": [
    "__Conclusion__: We can see that there is a high correlation of 0.97 between no. of hours studied and total score "
   ]
  },
  {
   "cell_type": "markdown",
   "id": "9e162267",
   "metadata": {},
   "source": [
    "### Now we will plot the data to see the pattern it makes"
   ]
  },
  {
   "cell_type": "code",
   "execution_count": 7,
   "id": "f5bfb236",
   "metadata": {
    "scrolled": true
   },
   "outputs": [
    {
     "data": {
      "text/plain": [
       "Text(0.5, 1.0, 'Hours vs Percentage')"
      ]
     },
     "execution_count": 7,
     "metadata": {},
     "output_type": "execute_result"
    },
    {
     "data": {
      "image/png": "[encoded data removed]",
      "text/plain": [
       "<Figure size 432x288 with 1 Axes>"
      ]
     },
     "metadata": {
      "needs_background": "light"
     },
     "output_type": "display_data"
    }
   ],
   "source": [
    "sns.scatterplot(x=df.Hours,y=df.Scores)\n",
    "plt.title(\"Hours vs Percentage\")"
   ]
  },
  {
   "cell_type": "markdown",
   "id": "114f8565",
   "metadata": {},
   "source": [
    "__We can see a strong linear relationship between the two features forming a straight line when plotted__"
   ]
  },
  {
   "cell_type": "markdown",
   "id": "3e839ff0",
   "metadata": {},
   "source": [
    "Now we will separate the data into dependent(score) feature(output) and independent(no. of hours studied) feature."
   ]
  },
  {
   "cell_type": "code",
   "execution_count": 8,
   "id": "af174812",
   "metadata": {},
   "outputs": [],
   "source": [
    "x=df.iloc[:,0:1].values # independent feature(hours studied)\n",
    "y=df.iloc[:,1].values   # dependent feature(percentage)"
   ]
  },
  {
   "cell_type": "markdown",
   "id": "82cdd2aa",
   "metadata": {},
   "source": [
    "__Splitting the data into training and test sets__"
   ]
  },
  {
   "cell_type": "code",
   "execution_count": 9,
   "id": "efc72459",
   "metadata": {},
   "outputs": [],
   "source": [
    "from sklearn.model_selection import train_test_split\n",
    "x_train,x_test,y_train,y_test=train_test_split(x,y,test_size=0.3,random_state=42)"
   ]
  },
  {
   "cell_type": "markdown",
   "id": "fce78c5d",
   "metadata": {},
   "source": [
    "__Training the model__"
   ]
  },
  {
   "cell_type": "code",
   "execution_count": 10,
   "id": "4b5dcf59",
   "metadata": {
    "scrolled": false
   },
   "outputs": [
    {
     "name": "stdout",
     "output_type": "stream",
     "text": [
      "Model Trained\n"
     ]
    }
   ],
   "source": [
    "from sklearn.linear_model import LinearRegression\n",
    "Lr=LinearRegression()\n",
    "Lr.fit(x_train,y_train)\n",
    "print(\"Model Trained\")"
   ]
  },
  {
   "cell_type": "markdown",
   "id": "6d01bd30",
   "metadata": {},
   "source": [
    "__Plotting the fitted regression line obtained__"
   ]
  },
  {
   "cell_type": "code",
   "execution_count": 11,
   "id": "2d618065",
   "metadata": {},
   "outputs": [
    {
     "data": {
      "text/plain": [
       "[<matplotlib.lines.Line2D at 0x1fb0f6cb490>]"
      ]
     },
     "execution_count": 11,
     "metadata": {},
     "output_type": "execute_result"
    },
    {
     "data": {
      "image/png": "[encoded data removed]",
      "text/plain": [
       "<Figure size 432x288 with 1 Axes>"
      ]
     },
     "metadata": {
      "needs_background": "light"
     },
     "output_type": "display_data"
    }
   ],
   "source": [
    "line=Lr.coef_*x+Lr.intercept_  # regression line\n",
    "plt.scatter(x,y)\n",
    "plt.plot(x,line)"
   ]
  },
  {
   "cell_type": "markdown",
   "id": "b15aadc8",
   "metadata": {},
   "source": [
    "__Making prediction on test data using the above model__"
   ]
  },
  {
   "cell_type": "code",
   "execution_count": 12,
   "id": "eac32530",
   "metadata": {},
   "outputs": [
    {
     "data": {
      "text/html": [
       "<div>\n",
       "<style scoped>\n",
       "    .dataframe tbody tr th:only-of-type {\n",
       "        vertical-align: middle;\n",
       "    }\n",
       "\n",
       "    .dataframe tbody tr th {\n",
       "        vertical-align: top;\n",
       "    }\n",
       "\n",
       "    .dataframe thead th {\n",
       "        text-align: right;\n",
       "    }\n",
       "</style>\n",
       "<table border=\"1\" class=\"dataframe\">\n",
       "  <thead>\n",
       "    <tr style=\"text-align: right;\">\n",
       "      <th></th>\n",
       "      <th>Actual</th>\n",
       "      <th>Predicted</th>\n",
       "    </tr>\n",
       "  </thead>\n",
       "  <tbody>\n",
       "    <tr>\n",
       "      <th>0</th>\n",
       "      <td>81</td>\n",
       "      <td>83.391686</td>\n",
       "    </tr>\n",
       "    <tr>\n",
       "      <th>1</th>\n",
       "      <td>30</td>\n",
       "      <td>27.070549</td>\n",
       "    </tr>\n",
       "    <tr>\n",
       "      <th>2</th>\n",
       "      <td>21</td>\n",
       "      <td>27.070549</td>\n",
       "    </tr>\n",
       "    <tr>\n",
       "      <th>3</th>\n",
       "      <td>76</td>\n",
       "      <td>69.796929</td>\n",
       "    </tr>\n",
       "    <tr>\n",
       "      <th>4</th>\n",
       "      <td>62</td>\n",
       "      <td>60.086388</td>\n",
       "    </tr>\n",
       "    <tr>\n",
       "      <th>5</th>\n",
       "      <td>25</td>\n",
       "      <td>29.012657</td>\n",
       "    </tr>\n",
       "    <tr>\n",
       "      <th>6</th>\n",
       "      <td>42</td>\n",
       "      <td>34.838982</td>\n",
       "    </tr>\n",
       "    <tr>\n",
       "      <th>7</th>\n",
       "      <td>47</td>\n",
       "      <td>52.317955</td>\n",
       "    </tr>\n",
       "  </tbody>\n",
       "</table>\n",
       "</div>"
      ],
      "text/plain": [
       "   Actual  Predicted\n",
       "0      81  83.391686\n",
       "1      30  27.070549\n",
       "2      21  27.070549\n",
       "3      76  69.796929\n",
       "4      62  60.086388\n",
       "5      25  29.012657\n",
       "6      42  34.838982\n",
       "7      47  52.317955"
      ]
     },
     "execution_count": 12,
     "metadata": {},
     "output_type": "execute_result"
    }
   ],
   "source": [
    "yhat=Lr.predict(x_test)\n",
    "df1=pd.DataFrame({'Actual':y_test,'Predicted':yhat})\n",
    "df1 # comparison between actual and obtained values"
   ]
  },
  {
   "cell_type": "markdown",
   "id": "74554cc5",
   "metadata": {},
   "source": [
    "__Calculating the model accuracy__"
   ]
  },
  {
   "cell_type": "code",
   "execution_count": 13,
   "id": "8fa5ed1b",
   "metadata": {},
   "outputs": [
    {
     "name": "stdout",
     "output_type": "stream",
     "text": [
      "Accuracy score of the model is:  0.9487647340257012\n"
     ]
    }
   ],
   "source": [
    "from sklearn.metrics import r2_score\n",
    "print(\"Accuracy score of the model is: \",r2_score(y_test,yhat))"
   ]
  },
  {
   "cell_type": "markdown",
   "id": "76bfd659",
   "metadata": {},
   "source": [
    "### Conclusion: We got a high accuracy of 0.94 suggesting that our model has performed well on test data and now can be used to make further predictions on new data"
   ]
  }
 ],
 "metadata": {
  "kernelspec": {
   "display_name": "Python 3 (ipykernel)",
   "language": "python",
   "name": "python3"
  },
  "language_info": {
   "codemirror_mode": {
    "name": "ipython",
    "version": 3
   },
   "file_extension": ".py",
   "mimetype": "text/x-python",
   "name": "python",
   "nbconvert_exporter": "python",
   "pygments_lexer": "ipython3",
   "version": "3.9.7"
  }
 },
 "nbformat": 4,
 "nbformat_minor": 5
}
